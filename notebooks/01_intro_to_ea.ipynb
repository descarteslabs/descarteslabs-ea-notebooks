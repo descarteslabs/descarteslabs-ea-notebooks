{
 "cells": [
  {
   "cell_type": "markdown",
   "id": "7d0d9447",
   "metadata": {},
   "source": [
    "# Intro to the DL Enterprise Accelerator"
   ]
  },
  {
   "cell_type": "markdown",
   "id": "4694a3ae",
   "metadata": {},
   "source": [
    "The DL Enterprise Accelerator (EA) gives you access to DL APIs and tools for scaling your analytics and data pipelines. This notebook and the others included in your onboarding package will walk you through the DL Python API's available to you and how you can use them to scale analyses and data pipelines. The examples in the following notebooks will be focused on agricultural use cases but can easily be translated to your particular subject of interest."
   ]
  },
  {
   "cell_type": "markdown",
   "id": "e31637ef",
   "metadata": {},
   "source": [
    "## What is included in the Enterprise Accelerator?\n",
    "\n",
    "- **Scenes** - [The DL Scenes API](https://docs.descarteslabs.com/guides/scenes.html) allows users to seamlessly access over 100 curated raster data products from the DL Data Catalog. With this API you can filter imagery metadata and pull stacks of imagery with a few lines of code.\n",
    "- **Catalog** - The Catalog is both a [Python API](https://docs.descarteslabs.com/guides/catalog_v2.html) and [a web UI](https://catalog.descarteslabs.com/?/) for exploring and uploading raster data on the DL EA. Integrate your raster data feeds into the DL EA to seamlessly intersect with our curated data products.\n",
    "- **Storage** - DL Storage is a [Python API](https://docs.descarteslabs.com/guides/storage.html) for storing and accessing generic objects and data. Storage is commonly used for storing model weights or parameter files used in pipelines.\n",
    "- **Tasks** - Tasks is a scalable backend, [Python API](https://docs.descarteslabs.com/guides/tasks.html), and [web UI](https://monitor.descarteslabs.com/) to deploy your models and data pipelines on. With Tasks you can run batch processing of your models and data pipelines  over large AOIs and timeframes.\n",
    "\n",
    "We'll be working with each of these API's/services through the next few notebooks."
   ]
  },
  {
   "cell_type": "markdown",
   "id": "1cfa9256",
   "metadata": {},
   "source": [
    "Let's start by importing the DL Python client and taking a look at each of the APIs mentioned above:"
   ]
  },
  {
   "cell_type": "markdown",
   "id": "6b75f196",
   "metadata": {},
   "source": [
    "## APIs Overview"
   ]
  },
  {
   "cell_type": "code",
   "execution_count": 1,
   "id": "66a97280",
   "metadata": {},
   "outputs": [],
   "source": [
    "import descarteslabs as dl"
   ]
  },
  {
   "cell_type": "markdown",
   "id": "56a1848c",
   "metadata": {},
   "source": [
    "The DL Scenes API has two primary pieces of functionality:\n",
    "- Searching for imagery using `dl.scenes.search()` over an AOI and date range, returning a `SceneCollection` or `Scene` object and a `GeoContext`\n",
    "- Accessing imagery using a `Scene` or `SceneCollection` object and a `GeoContext`, using the `.ndarray()`, `.mosaic()`, or `.stack()` methods"
   ]
  },
  {
   "cell_type": "code",
   "execution_count": 2,
   "id": "54750c32",
   "metadata": {},
   "outputs": [
    {
     "data": {
      "text/plain": [
       "\u001b[0;31mType:\u001b[0m        module\n",
       "\u001b[0;31mString form:\u001b[0m <module 'descarteslabs.scenes' from '/opt/conda/lib/python3.7/site-packages/descarteslabs/scenes/__init__.py'>\n",
       "\u001b[0;31mFile:\u001b[0m        /opt/conda/lib/python3.7/site-packages/descarteslabs/scenes/__init__.py\n",
       "\u001b[0;31mDocstring:\u001b[0m  \n",
       "The Scenes submodule provides a higher-level, object-based\n",
       "interface to the Descartes Labs Platform catalog of imagery and\n",
       "raster services that makes most interactions easier.\n",
       "\n",
       "* :doc:`Collection <docs/collection>`: convenience methods for mapping and filtering\n",
       "* :doc:`GeoContext <docs/geocontext>`: consistent spatial parameters to use when loading a raster\n",
       "* :doc:`Scene <docs/scene>`: metadata about a single scene\n",
       "* :doc:`SceneCollection <docs/scenecollection>`: conveniently work with Scenes in aggregate\n",
       "* :doc:`search <docs/search>`: search for Scenes\n",
       "* :doc:`display <docs/display>`: display ndarrays with matplotlib\n",
       "\n",
       "It's available under ``descarteslabs.scenes``.\n"
      ]
     },
     "metadata": {},
     "output_type": "display_data"
    }
   ],
   "source": [
    "dl.scenes?"
   ]
  },
  {
   "cell_type": "markdown",
   "id": "6f59d90f",
   "metadata": {},
   "source": [
    "The Catalog Python API is used to create and explore raster datasets on the DL platform. The API uses various objects representing difference components of a raster image and it's metadata. A few of the key objects in the API are: `Product`, `Band`, and `Image`. Each of these objects can be parameterized to represent the imagery you are trying to upload to the platform."
   ]
  },
  {
   "cell_type": "code",
   "execution_count": 3,
   "id": "972dcd59",
   "metadata": {},
   "outputs": [
    {
     "data": {
      "text/plain": [
       "\u001b[0;31mType:\u001b[0m        module\n",
       "\u001b[0;31mString form:\u001b[0m <module 'descarteslabs.catalog' from '/opt/conda/lib/python3.7/site-packages/descarteslabs/catalog/__init__.py'>\n",
       "\u001b[0;31mFile:\u001b[0m        /opt/conda/lib/python3.7/site-packages/descarteslabs/catalog/__init__.py\n",
       "\u001b[0;31mDocstring:\u001b[0m  \n",
       "The Catalog Service provides access to products, bands, and images\n",
       "available from Descartes Labs.\n"
      ]
     },
     "metadata": {},
     "output_type": "display_data"
    }
   ],
   "source": [
    "dl.catalog?"
   ]
  },
  {
   "cell_type": "markdown",
   "id": "298a0b04",
   "metadata": {},
   "source": [
    "The Storage API is a simple key value store that can be used to upload any generic data to the DL platform. Storage has functions for storing files (`set_file()`) as well as simple key value pairs (`set()`). This data can the be retrieved with `get_file()` and `get()` respectively. Aditionally access to objects in Storage can be controlled so only specific users can access certain files. By default only the owner of the object (the user that created the object) has access to it."
   ]
  },
  {
   "cell_type": "code",
   "execution_count": 6,
   "id": "2b9f8562",
   "metadata": {},
   "outputs": [
    {
     "data": {
      "text/plain": [
       "\u001b[0;31mType:\u001b[0m           Storage\n",
       "\u001b[0;31mString form:\u001b[0m    <descarteslabs.client.services.storage.storage.Storage object at 0x7fcce40e2e10>\n",
       "\u001b[0;31mFile:\u001b[0m           /opt/conda/lib/python3.7/site-packages/descarteslabs/client/services/storage/storage.py\n",
       "\u001b[0;31mDocstring:\u001b[0m     \n",
       "The Storage API provides a mechanism to store arbitrary data and later retrieve it using\n",
       "simple key-value pair semantics.\n",
       "\u001b[0;31mInit docstring:\u001b[0m\n",
       ":param str url: A HTTP URL pointing to a version of the storage service\n",
       "    (defaults to current version)\n",
       ":param Auth auth: A custom user authentication (defaults to the user\n",
       "    authenticated locally by token information on disk or by environment\n",
       "    variables)\n",
       ":param urllib3.util.retry.Retry retries: A custom retry configuration\n",
       "    used for all API requests (defaults to a reasonable amount of retries)\n"
      ]
     },
     "metadata": {},
     "output_type": "display_data"
    }
   ],
   "source": [
    "dl.storage?"
   ]
  },
  {
   "cell_type": "markdown",
   "id": "659e46e5",
   "metadata": {},
   "source": [
    "The Tasks API is used to scale up analyses by taking generic Python code and bundling it into an `CloudFunction` then submitting jobs to a distributed backend using that `CloudFunction`. These functions can be created using `dl.tasks.create_function()` which returns a `CloudFunction` object. That object can then by used to individually submit jobs using `CloudFunction(*args, **kwargs)`. Alternatively multiple jobs can be submitted using `CloudFunction.map(args, *iter_args)`. "
   ]
  },
  {
   "cell_type": "code",
   "execution_count": 7,
   "id": "f47024d0",
   "metadata": {},
   "outputs": [
    {
     "data": {
      "text/plain": [
       "\u001b[0;31mType:\u001b[0m           Tasks\n",
       "\u001b[0;31mString form:\u001b[0m    <descarteslabs.client.services.tasks.tasks.Tasks object at 0x7fcce40e2ed0>\n",
       "\u001b[0;31mFile:\u001b[0m           /opt/conda/lib/python3.7/site-packages/descarteslabs/client/services/tasks/tasks.py\n",
       "\u001b[0;31mDocstring:\u001b[0m     \n",
       "The Tasks API allows you to easily execute parallel computations on cloud\n",
       "infrastructure with high-throughput access to imagery.\n",
       "\u001b[0;31mInit docstring:\u001b[0m\n",
       ":param str url: An HTTP URL pointing to a version of the storage service\n",
       "    (defaults to current version)\n",
       ":param Auth auth: A custom user authentication (defaults to the user\n",
       "    authenticated locally by token information on disk or by environment\n",
       "    variables)\n",
       ":param urllib3.util.retry.Retry retries: A custom retry configuration\n",
       "    used for all API requests (defaults to a reasonable amount of retries)\n"
      ]
     },
     "metadata": {},
     "output_type": "display_data"
    }
   ],
   "source": [
    "dl.tasks?"
   ]
  },
  {
   "cell_type": "markdown",
   "id": "0fa32283",
   "metadata": {},
   "source": [
    "## What's next?"
   ]
  },
  {
   "cell_type": "markdown",
   "id": "9d27a7f1",
   "metadata": {},
   "source": [
    "We will explore each of the APIs mentioned above in the following notebooks:\n",
    "- *02_scalable_data_pipeline.ipynb* - **Scenes and Catalog**\n",
    "- *03_deplopying_models_at_scale.ipynb* - **Scenes, Storage, and Tasks**\n",
    "- *04_buidling_a_flask_app.ipynb* - **Scenes and Storage**"
   ]
  }
 ],
 "metadata": {
  "kernelspec": {
   "display_name": "Python 3 (ipykernel)",
   "language": "python",
   "name": "python3"
  },
  "language_info": {
   "codemirror_mode": {
    "name": "ipython",
    "version": 3
   },
   "file_extension": ".py",
   "mimetype": "text/x-python",
   "name": "python",
   "nbconvert_exporter": "python",
   "pygments_lexer": "ipython3",
   "version": "3.7.12"
  }
 },
 "nbformat": 4,
 "nbformat_minor": 5
}
