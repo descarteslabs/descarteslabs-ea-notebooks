{
 "cells": [
  {
   "cell_type": "markdown",
   "id": "52f23270",
   "metadata": {},
   "source": [
    "# DL in production"
   ]
  },
  {
   "cell_type": "markdown",
   "id": "77f294e2",
   "metadata": {},
   "source": [
    "In this notebook we will be exploring what using DL in a production pipeline or application might look like. To do this we will create a simple flask application that we deploy locally and submit jobs to. As in the last notebook we will by running a model on a clean field level NDVI timeseries. The hypothetical \"user\" of our application will submit a geometry and unique id in a request and receive the model output back. Serving a model on demand like this may make more sense than using Tasks in a scenario where you don't want to re-run large deployments often."
   ]
  },
  {
   "cell_type": "markdown",
   "id": "5c4f0e97",
   "metadata": {},
   "source": [
    "We will use the following DL API's in this exercise (in the flask app itself):\n",
    "- [Scenes](https://docs.descarteslabs.com/descarteslabs/scenes/readme.html) - Query for and access imagery over our AOI\n",
    "- [Storage](https://docs.descarteslabs.com/descarteslabs/client/services/storage/readme.html) - Store our model on the DL backend/cloud data store\n",
    "\n",
    "We will use the following external Python packages:\n",
    "- [requests](https://docs.python-requests.org/en/latest/) - Submit jobs to our flask app\n",
    "- [geopandas](https://geopandas.org/en/stable/docs.html) - Import, transform, and query our reference dataset for Iowa agricultural fields\n",
    "- [shapely](https://shapely.readthedocs.io/en/stable/) - Convert geometries into JSON format"
   ]
  },
  {
   "cell_type": "code",
   "execution_count": null,
   "id": "6d32803b",
   "metadata": {},
   "outputs": [],
   "source": [
    "%pip install Flask"
   ]
  },
  {
   "cell_type": "code",
   "execution_count": null,
   "id": "3a0d24f8",
   "metadata": {},
   "outputs": [],
   "source": [
    "import requests\n",
    "import geopandas as gpd\n",
    "import shapely.geometry as sg"
   ]
  },
  {
   "cell_type": "markdown",
   "id": "3c3a3c2c",
   "metadata": {},
   "source": [
    "We write a simple flask app that takes a request, accesses the provided geometry, pulls the clean timeseries using `get_ndvi_tseries`, pulls the model using Storage, loads the model, then returns the results of the model back to the \"user\"."
   ]
  },
  {
   "cell_type": "markdown",
   "id": "931c8d1d",
   "metadata": {},
   "source": [
    "```python\n",
    "from flask import Flask, request\n",
    "from .utils import get_ndvi_tseries\n",
    "import descarteslabs as dl\n",
    "import os.path as osp\n",
    "from joblib import load\n",
    "\n",
    "app = Flask(__name__)\n",
    "\n",
    "@app.route(\"/getclass\", methods=[\"POST\", \"GET\"])\n",
    "def get_field_class():\n",
    "    content = request.json\n",
    "    print(f\"Recieved request: {content}\")\n",
    "    \n",
    "    geom = content[\"geometry\"]\n",
    "    if \"fid\" in content.keys():\n",
    "        fid = content[\"fid\"]\n",
    "    else:\n",
    "        fid = \"\"\n",
    "    \n",
    "    print(\"Loading classifier\")\n",
    "    if not osp.exists(\"../models/classifier.joblib\"):\n",
    "        print(\"Classifier not found locally. Pulling from dl.Storage\")\n",
    "        dl.storage.get_file(\"classifier.joblib\", \"../models/classifier.joblib\")\n",
    "        \n",
    "    clf = load(\"../models/classifier.joblib\")\n",
    "    \n",
    "    print(\"Retrieving timeseries\")\n",
    "    ndvi_ts, ndvi_dates = get_ndvi_tseries(geom)\n",
    "    \n",
    "    result = {\n",
    "        \"class\": clf.predict(ndvi_ts.reshape(1,-1))[0], \n",
    "        \"fid\": fid\n",
    "    }\n",
    "    \n",
    "    return result\n",
    "```"
   ]
  },
  {
   "cell_type": "markdown",
   "id": "59e95dcd",
   "metadata": {},
   "source": [
    "We can run the flask app \"locally\" by going to the bash shell and executing the following:\n",
    "```bash\n",
    "cd {path_to_notebooks}/dl-ea-notebooks/notebooks\n",
    "export FLASK_APP=dl_flask_app\n",
    "flask run\n",
    "```"
   ]
  },
  {
   "cell_type": "markdown",
   "id": "964ecb44",
   "metadata": {},
   "source": [
    "Once we execute the code above we should be able to see the following, indicating that the application is running."
   ]
  },
  {
   "cell_type": "markdown",
   "id": "328d4940",
   "metadata": {},
   "source": [
    "![flask_app_running](../images/flask_app_running.png)"
   ]
  },
  {
   "cell_type": "markdown",
   "id": "f424bcd1",
   "metadata": {},
   "source": [
    "We will then submit requests to this app from this notebook using the `requests` library. Again we start by loading in our reference dataset and converting it to EPSG 4326."
   ]
  },
  {
   "cell_type": "code",
   "execution_count": null,
   "id": "1e77b032",
   "metadata": {},
   "outputs": [],
   "source": [
    "ia_fields = gpd.read_file(\"../data/IowaFieldBoundaries2019.shp\")"
   ]
  },
  {
   "cell_type": "code",
   "execution_count": null,
   "id": "6ea23ad7",
   "metadata": {},
   "outputs": [],
   "source": [
    "ia_fields = ia_fields.to_crs(\"EPSG:4326\")"
   ]
  },
  {
   "cell_type": "markdown",
   "id": "e9220771",
   "metadata": {},
   "source": [
    "We choose a single field from the dataset then get it's geometry and unique identifier."
   ]
  },
  {
   "cell_type": "code",
   "execution_count": null,
   "id": "679e7c2a",
   "metadata": {},
   "outputs": [],
   "source": [
    "# test_idx = 3000\n",
    "# test_idx = 2000\n",
    "test_idx = 100500"
   ]
  },
  {
   "cell_type": "code",
   "execution_count": null,
   "id": "e0940a5e",
   "metadata": {},
   "outputs": [],
   "source": [
    "ia_fields.iloc[test_idx]"
   ]
  },
  {
   "cell_type": "code",
   "execution_count": null,
   "id": "7201e365",
   "metadata": {},
   "outputs": [],
   "source": [
    "ia_fields.iloc[test_idx].geometry"
   ]
  },
  {
   "cell_type": "code",
   "execution_count": null,
   "id": "8c1430ba",
   "metadata": {},
   "outputs": [],
   "source": [
    "test_geom = sg.mapping(ia_fields.iloc[test_idx].geometry)\n",
    "test_fid = ia_fields.iloc[test_idx].FBndID"
   ]
  },
  {
   "cell_type": "markdown",
   "id": "46bb0d46",
   "metadata": {},
   "source": [
    "We construct a request with the above geometry and id with the following format:"
   ]
  },
  {
   "cell_type": "code",
   "execution_count": null,
   "id": "6be827c6",
   "metadata": {},
   "outputs": [],
   "source": [
    "request_json = {\n",
    "    \"geometry\": test_geom,\n",
    "    \"fid\": test_fid\n",
    "}"
   ]
  },
  {
   "cell_type": "code",
   "execution_count": null,
   "id": "71388b2c",
   "metadata": {},
   "outputs": [],
   "source": [
    "request_json"
   ]
  },
  {
   "cell_type": "markdown",
   "id": "135a2484",
   "metadata": {},
   "source": [
    "Finally we can submit the request to our local application and wait for a result! We should be able to monitor the status of the request being processed by watching the terminal where our flask application is running."
   ]
  },
  {
   "cell_type": "code",
   "execution_count": null,
   "id": "143eac51",
   "metadata": {},
   "outputs": [],
   "source": [
    "res = requests.post('http://127.0.0.1:5000/getclass', json=request_json)"
   ]
  },
  {
   "cell_type": "code",
   "execution_count": null,
   "id": "ba5c6071",
   "metadata": {},
   "outputs": [],
   "source": [
    "res.json()"
   ]
  },
  {
   "cell_type": "markdown",
   "id": "d5dfab75",
   "metadata": {},
   "source": [
    "This flask application is quite simple and should only be run locally. Do not expose your local machine or credentials in a public flask application."
   ]
  },
  {
   "cell_type": "markdown",
   "id": "fcef6a8f",
   "metadata": {},
   "source": [
    "## What's next?"
   ]
  },
  {
   "cell_type": "markdown",
   "id": "0d49f5f6",
   "metadata": {},
   "source": [
    "In this notebook series we've covered accessing raster data, uploading data to Catalog, deploying models in Tasks, and running a simple local application using DL as a remote sensing backend. For more examples, guides, and full documentation please see the docs [here](https://docs.descarteslabs.com/)! For any issues or questions please submit a ticket to the [DL customer support desk](https://descarteslabs.atlassian.net/servicedesk/customer/portals)."
   ]
  }
 ],
 "metadata": {
  "kernelspec": {
   "display_name": "Python 3 (ipykernel)",
   "language": "python",
   "name": "python3"
  },
  "language_info": {
   "codemirror_mode": {
    "name": "ipython",
    "version": 3
   },
   "file_extension": ".py",
   "mimetype": "text/x-python",
   "name": "python",
   "nbconvert_exporter": "python",
   "pygments_lexer": "ipython3",
   "version": "3.7.12"
  }
 },
 "nbformat": 4,
 "nbformat_minor": 5
}
