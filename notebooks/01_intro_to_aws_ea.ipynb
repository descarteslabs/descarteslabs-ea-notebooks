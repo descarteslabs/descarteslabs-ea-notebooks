{
 "cells": [
  {
   "cell_type": "markdown",
   "id": "8c8b965f-bf00-4912-bf87-ce4588323569",
   "metadata": {},
   "source": [
    "# Getting started with Descartes Labs Enterprise Accelerator on AWS"
   ]
  },
  {
   "cell_type": "markdown",
   "id": "4edd4e2f-6dde-4d09-b0d9-a737d006c8d3",
   "metadata": {},
   "source": [
    "The DL Enterprise Accelerator (EA) gives you access to DL APIs and tools for scaling your analytics and data pipelines. This notebook and the others included in your onboarding package will walk you through the DL Python API's available to you and how you can use them to scale analyses and data pipelines. The examples in the following notebooks will be focused on agricultural use cases but can easily be translated to your particular subject of interest."
   ]
  },
  {
   "cell_type": "markdown",
   "id": "896e9119-3d11-4c74-bfc8-c018cf068144",
   "metadata": {},
   "source": [
    "To access the correct documentation for the DL AWS Enterprise Accelerator please go to https://docs.descarteslabs.com/ and in the bottom left (in the Release Version dropdown) select \"AWS Enterprise Accelerator\"."
   ]
  },
  {
   "cell_type": "markdown",
   "id": "d963686d-8bd3-4ec6-b3b3-c894f4e8be94",
   "metadata": {},
   "source": [
    "## What is included in the Enterprise Accelerator?\n",
    "\n",
    "- **Scenes** - [The DL Scenes API](https://docs.descarteslabs.com/descarteslabs/scenes/readme.html) allows users to seamlessly access curated raster data products from the DL Data Catalog. With this API you can filter imagery metadata and pull stacks of imagery with a few lines of code.\n",
    "- **Geo** - The [DL Geo API](https://docs.descarteslabs.com/descarteslabs/geo/readme.html) allows users to generate easy to user DL aois and manage resolutions, coordinate systems, and tiling with ease.\n",
    "\n",
    "We'll be working with each of these API's/services through the next few notebooks."
   ]
  },
  {
   "cell_type": "markdown",
   "id": "5313483d-37e8-4f70-af52-6eee3b099795",
   "metadata": {},
   "source": [
    "To get started with the DL Enterprise Accelerator on AWS we must first install the DL Python package and authenticate using our DL account. To do this we can run the following code in our command line or using cell magic:\n",
    "\n",
    "To install the package we use `pip` and install the DL Python client:\n",
    "```bash\n",
    "pip3 install -U descarteslabs>=1.11.0\n",
    "```\n",
    "\n",
    "Once this is installed we can then authenticate:\n",
    "\n",
    "```bash\n",
    "descarteslabs auth login\n",
    "```\n",
    "Follow the link this generates and then paste your token into the promt."
   ]
  },
  {
   "cell_type": "markdown",
   "id": "53d42269-2d70-447e-bdd3-c05576b602d9",
   "metadata": {},
   "source": [
    "We now need to make sure the AWS version of the client is configured (rather than the GCP version). This should automatically occur for any users authorized for the AWS Enterprise Accelerator platform when you authenticate. Alternatively you can specify the `DESCARTESLABS_ENV` environment variable to `aws-production`. For more information on configuration please consult [the docs here](https://docs.descarteslabs.com/configuration.html). If you already have the `descarteslabs` client installed and are having issues with configuration please try uninstalling the existing version, re-installing, and then re-authenticating."
   ]
  },
  {
   "cell_type": "markdown",
   "id": "9b09a9ed-6d66-4d34-9852-b49a71dc53c8",
   "metadata": {},
   "source": [
    "Now let's import the Descartes Labs client..."
   ]
  },
  {
   "cell_type": "code",
   "execution_count": null,
   "id": "184e1f50-1845-4017-93dd-53f3dc5e5cf7",
   "metadata": {},
   "outputs": [],
   "source": [
    "import descarteslabs as dl"
   ]
  },
  {
   "cell_type": "code",
   "execution_count": null,
   "id": "392f31b1-728f-44b1-afad-1a7b4b241e01",
   "metadata": {},
   "outputs": [],
   "source": [
    "dl.select_env(dl.AWS_ENVIRONMENT)"
   ]
  },
  {
   "cell_type": "markdown",
   "id": "682d03a1-e520-434b-9626-8153449f20b2",
   "metadata": {},
   "source": [
    "..and take a look at the main modules associated with the client:"
   ]
  },
  {
   "cell_type": "code",
   "execution_count": null,
   "id": "f4647e5e-87ab-4e0b-adbf-aafdc578915f",
   "metadata": {},
   "outputs": [],
   "source": [
    "dl.scenes?"
   ]
  },
  {
   "cell_type": "code",
   "execution_count": null,
   "id": "0ef6f2fa-84c9-4d3d-8527-2a6193776679",
   "metadata": {},
   "outputs": [],
   "source": [
    "dl.geo?"
   ]
  },
  {
   "cell_type": "code",
   "execution_count": null,
   "id": "d794f1a0-867a-43fa-a3cf-040ef1e0a308",
   "metadata": {},
   "outputs": [],
   "source": [
    "dl.auth?"
   ]
  },
  {
   "cell_type": "code",
   "execution_count": null,
   "id": "c2bd47a1-b15a-4b75-9856-536b99179443",
   "metadata": {},
   "outputs": [],
   "source": [
    "dl.config?"
   ]
  },
  {
   "cell_type": "code",
   "execution_count": null,
   "id": "70002fbf-1628-46b0-944c-1f7bb042d598",
   "metadata": {},
   "outputs": [],
   "source": []
  },
  {
   "cell_type": "code",
   "execution_count": null,
   "id": "3effd085-b56c-466f-9b73-f1deeac06954",
   "metadata": {},
   "outputs": [],
   "source": []
  }
 ],
 "metadata": {
  "kernelspec": {
   "display_name": "Python 3 (ipykernel)",
   "language": "python",
   "name": "python3"
  },
  "language_info": {
   "codemirror_mode": {
    "name": "ipython",
    "version": 3
   },
   "file_extension": ".py",
   "mimetype": "text/x-python",
   "name": "python",
   "nbconvert_exporter": "python",
   "pygments_lexer": "ipython3",
   "version": "3.9.12"
  }
 },
 "nbformat": 4,
 "nbformat_minor": 5
}
